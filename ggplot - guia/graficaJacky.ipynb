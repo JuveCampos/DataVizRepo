{
 "cells": [
  {
   "cell_type": "markdown",
   "metadata": {},
   "source": [
    "# Grafica Jacky"
   ]
  },
  {
   "cell_type": "markdown",
   "metadata": {},
   "source": [
    "Librerias utilizadas: "
   ]
  },
  {
   "cell_type": "code",
   "execution_count": 1,
   "metadata": {},
   "outputs": [
    {
     "name": "stderr",
     "output_type": "stream",
     "text": [
      "── Attaching packages ─────────────────────────────────────── tidyverse 1.2.1 ──\n",
      "✔ ggplot2 3.1.0     ✔ purrr   0.2.5\n",
      "✔ tibble  2.0.0     ✔ dplyr   0.7.8\n",
      "✔ tidyr   0.8.2     ✔ stringr 1.3.1\n",
      "✔ readr   1.3.1     ✔ forcats 0.3.0\n",
      "── Conflicts ────────────────────────────────────────── tidyverse_conflicts() ──\n",
      "✖ dplyr::filter() masks stats::filter()\n",
      "✖ dplyr::lag()    masks stats::lag()\n"
     ]
    }
   ],
   "source": [
    "library(tidyverse)"
   ]
  },
  {
   "cell_type": "markdown",
   "metadata": {},
   "source": [
    "### Datos\n",
    "\n",
    "Nos inventamos unos datos para que funcione el experimento"
   ]
  },
  {
   "cell_type": "code",
   "execution_count": null,
   "metadata": {},
   "outputs": [],
   "source": [
    "# Leemos los datos (GENERAMOS LOS DATOS!)\n",
    "datos.x <- c(0.98,1,1.2,1.2)\n",
    "datos.y <- c(0.085, 0.09, 0.09, 0.13)\n",
    "clases <- c(\"A\", \"B\", \"A\", \"B\")\n",
    "datos <- cbind(datos.x, datos.y, clases) %>% as.data.frame()\n",
    "datos$datos.y <- as.numeric(as.character(datos$datos.y))\n",
    "datos$datos.x <- as.numeric(as.character(datos$datos.x))\n",
    "lapply(datos, class)\n",
    "rm(datos.x, datos.y)"
   ]
  },
  {
   "cell_type": "markdown",
   "metadata": {},
   "source": [
    "La gráfica que deseamos realizar tiene de fondo cuadros de colores. Por lo tanto, utilizaremos, de la librería `ggplot2`, la función `geom_tile`, que, a partir de una base de centroides (y donde también se le puede especificar un `height` y un `width`) nos generará cuadritos sobre los ejes de la gráfica. \n",
    "\n",
    "A continuación procederemos a realizar una gráfica ejemplo:"
   ]
  },
  {
   "cell_type": "code",
   "execution_count": 2,
   "metadata": {},
   "outputs": [
    {
     "data": {},
     "metadata": {},
     "output_type": "display_data"
    },
    {
     "data": {
      "image/png": "[encoded data removed]",
      "text/plain": [
       "plot without title"
      ]
     },
     "metadata": {},
     "output_type": "display_data"
    }
   ],
   "source": [
    "# Calculamos los centroides de los rectangulos del fondo\n",
    "cortes_ejes <- c(0.975, 0.095)\n",
    "centroides.x <- c(cortes_ejes[1]/2, cortes_ejes[1]/2, cortes_ejes[1]*1.5, cortes_ejes[1]*1.5)\n",
    "centroides.y <- c(cortes_ejes[2]/2, cortes_ejes[2]*1.5, cortes_ejes[2]/2, cortes_ejes[2]*1.5)\n",
    "centroides <- cbind(centroides.x, centroides.y) %>% as.data.frame()\n",
    "\n",
    "# Sólo para los cuadros!\n",
    "ggplot(centroides, aes(centroides.x, centroides.y)) +\n",
    "  geom_tile(fill = c(\"yellow\", \"red\", \"green\", \"blue\"), alpha = 0.2)\n"
   ]
  },
  {
   "cell_type": "markdown",
   "metadata": {},
   "source": [
    "Ahora, con los datos inventados hasta arriba, procederemos a realizar la gráfica ejemplo de interés. Para ver que realiza cada función, seleccion"
   ]
  }
 ],
 "metadata": {
  "kernelspec": {
   "display_name": "R",
   "language": "R",
   "name": "ir"
  },
  "language_info": {
   "codemirror_mode": "r",
   "file_extension": ".r",
   "mimetype": "text/x-r-source",
   "name": "R",
   "pygments_lexer": "r",
   "version": "3.5.1"
  }
 },
 "nbformat": 4,
 "nbformat_minor": 2
}
